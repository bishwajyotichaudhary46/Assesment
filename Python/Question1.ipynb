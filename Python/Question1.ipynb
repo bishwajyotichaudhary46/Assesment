{
 "cells": [
  {
   "cell_type": "markdown",
   "id": "812aa9c1",
   "metadata": {},
   "source": [
    "# Question 1: -\n"
   ]
  },
  {
   "cell_type": "markdown",
   "id": "bae57d95",
   "metadata": {},
   "source": [
    "Write a program that takes a string as input, and counts the frequency of each word in the string, there might\n",
    "be repeated characters in the string. Your task is to find the highest frequency and returns the length of the\n",
    "highest-frequency word.\n"
   ]
  },
  {
   "cell_type": "markdown",
   "id": "88e08b79",
   "metadata": {},
   "source": [
    "Note - You have to write at least 2 additional test cases in which your program will run successfully and provide\n",
    "an explanation for the same.\n",
    "Example input - string = “write write write all the number from from from 1 to 100”\n",
    "Example output - 5\n",
    "Explanation - From the given string we can note that the most frequent words are “write” and “from” and\n",
    "the maximum value of both the values is “write” and its corresponding length is 5\n"
   ]
  },
  {
   "cell_type": "code",
   "execution_count": 13,
   "id": "4141ae55",
   "metadata": {},
   "outputs": [],
   "source": [
    "def count_dict():\n",
    "    # take input from user\n",
    "    input_string = input(\"Enter your sentence which you want to count max frequency \\n\")\n",
    "    # split method split the string and it convert to list\n",
    "    lst = list(input_string.split(\" \"))\n",
    "    # define variable to count the number word repeated\n",
    "    count = 0\n",
    "    # define dictionery to store key as word and values as count\n",
    "    freq = {}\n",
    "    # here used nested looping for access element\n",
    "    for i in lst:\n",
    "        for j in lst:\n",
    "            # comparing the word with each other if count increase count values\n",
    "            if j == i:\n",
    "                count += 1\n",
    "        # here update the dictionary with word as key and count as value and its takes only unique\n",
    "        freq[i] = count\n",
    "        # now clear the count to zero\n",
    "        count = 0\n",
    "    return freq\n",
    "                "
   ]
  },
  {
   "cell_type": "code",
   "execution_count": 14,
   "id": "0b0e5f46",
   "metadata": {},
   "outputs": [],
   "source": [
    "def frequency_and_length():\n",
    "    # define freq variable to the store the max frequency\n",
    "    freq = 0\n",
    "    dict_1 = count_dict()\n",
    "    #here looping the dictionery\n",
    "    for i,j in dict_1.items():\n",
    "        # compary frequency word and with define frequency if greater than freq then update freq And also store corressponding word\n",
    "        if freq < j:\n",
    "            freq = j\n",
    "            word = i\n",
    "    print(f\"\\n Most Frequencies :{freq} and most frequencies word is {word}\\n And its length : {len(word)}\")\n",
    "    "
   ]
  },
  {
   "cell_type": "code",
   "execution_count": 15,
   "id": "98d765df",
   "metadata": {},
   "outputs": [
    {
     "name": "stdout",
     "output_type": "stream",
     "text": [
      "Enter your sentence which you want to count max frequency \n",
      "write write write all the number from from from 1 to 100\n",
      "\n",
      " Most Frequencies :3 and most frequencies word is write\n",
      " And its length : 5\n"
     ]
    }
   ],
   "source": [
    "frequency_and_length()"
   ]
  },
  {
   "cell_type": "code",
   "execution_count": 16,
   "id": "b854bd33",
   "metadata": {},
   "outputs": [
    {
     "name": "stdout",
     "output_type": "stream",
     "text": [
      "Enter your sentence which you want to count max frequency \n",
      "hello hello how are you \n",
      "\n",
      " Most Frequencies :2 and most frequencies word is hello\n",
      " And its length : 5\n"
     ]
    }
   ],
   "source": [
    "frequency_and_length()"
   ]
  },
  {
   "cell_type": "code",
   "execution_count": null,
   "id": "a8b21638",
   "metadata": {},
   "outputs": [],
   "source": []
  }
 ],
 "metadata": {
  "kernelspec": {
   "display_name": "Python 3 (ipykernel)",
   "language": "python",
   "name": "python3"
  },
  "language_info": {
   "codemirror_mode": {
    "name": "ipython",
    "version": 3
   },
   "file_extension": ".py",
   "mimetype": "text/x-python",
   "name": "python",
   "nbconvert_exporter": "python",
   "pygments_lexer": "ipython3",
   "version": "3.9.13"
  }
 },
 "nbformat": 4,
 "nbformat_minor": 5
}
