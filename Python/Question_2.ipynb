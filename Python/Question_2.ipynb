{
 "cells": [
  {
   "cell_type": "markdown",
   "id": "7e349724",
   "metadata": {},
   "source": [
    "# Question 2"
   ]
  },
  {
   "cell_type": "markdown",
   "id": "001342a2",
   "metadata": {},
   "source": [
    "Consider a string to be valid if all characters of the string appear the same number of times. It is also valid if\n",
    "he can remove just one character at the index in the string, and the remaining characters will occur the same\n",
    "number of times. Given a string, determine if it is valid. If so, return YES , otherwise return NO"
   ]
  },
  {
   "cell_type": "markdown",
   "id": "6193bd1a",
   "metadata": {},
   "source": [
    "Note - You have to write at least 2 additional test cases in which your program will run successfully and provide\n",
    "an explanation for the same.\n",
    "Example input 1 - s = “abc”. This is a valid string because frequencies are { “a”: 1, “b”: 1, “c”: 1 }\n",
    "Example output 1- YES\n",
    "Example input 2 - s “abcc”. This string is not valid as we can remove only 1 occurrence of “c”. That leaves\n",
    "character frequencies of { “a”: 1, “b”: 1 , “c”: 2 }\n",
    "Example output 2 - NO"
   ]
  },
  {
   "cell_type": "code",
   "execution_count": 11,
   "id": "80672f49",
   "metadata": {},
   "outputs": [],
   "source": [
    "def check_valid_string():\n",
    "    # TAKE IN INPUT FROM USER\n",
    "    input_string = input(\"Enter a string for check validation\\n\")\n",
    "    freq = {}\n",
    "    # LOOPING FOR COUNT THE NO OF OCCURANCE OF STRING AND STORE IT INTO DICTIONARY\n",
    "    for i in input_string:\n",
    "        count = 0\n",
    "        for j in input_string:\n",
    "            if i == j:\n",
    "                count += 1\n",
    "        freq[i] = count\n",
    "    print(f\"The string with frequencis {freq}\")\n",
    "    # STORE THE VALUES OF DICTIONARY INTO VAL\n",
    "    val = list(freq.values())\n",
    "    # LOOPING THE VALUE FOR TO CHECK SAME OCCURANCE OF WORD\n",
    "    for i in val:\n",
    "        if i == val[0]:\n",
    "            flag = 1\n",
    "        else: \n",
    "            flag = 0\n",
    "            break\n",
    "            \n",
    "\n",
    "    if flag == 1:\n",
    "        return \"Yes\"\n",
    "    else:\n",
    "        return \"No\"\n",
    "    \n",
    "            "
   ]
  },
  {
   "cell_type": "code",
   "execution_count": 12,
   "id": "7327f1f2",
   "metadata": {},
   "outputs": [
    {
     "name": "stdout",
     "output_type": "stream",
     "text": [
      "Enter a string for check validation\n",
      "abc\n",
      "The string with frequencis {'a': 1, 'b': 1, 'c': 1}\n"
     ]
    },
    {
     "data": {
      "text/plain": [
       "'Yes'"
      ]
     },
     "execution_count": 12,
     "metadata": {},
     "output_type": "execute_result"
    }
   ],
   "source": [
    "check_valid_string()"
   ]
  },
  {
   "cell_type": "code",
   "execution_count": 13,
   "id": "37c6fe6a",
   "metadata": {},
   "outputs": [
    {
     "name": "stdout",
     "output_type": "stream",
     "text": [
      "Enter a string for check validation\n",
      "abcc\n",
      "The string with frequencis {'a': 1, 'b': 1, 'c': 2}\n"
     ]
    },
    {
     "data": {
      "text/plain": [
       "'No'"
      ]
     },
     "execution_count": 13,
     "metadata": {},
     "output_type": "execute_result"
    }
   ],
   "source": [
    "check_valid_string()"
   ]
  },
  {
   "cell_type": "code",
   "execution_count": null,
   "id": "db998a28",
   "metadata": {},
   "outputs": [],
   "source": []
  },
  {
   "cell_type": "code",
   "execution_count": null,
   "id": "afad5d5f",
   "metadata": {},
   "outputs": [],
   "source": []
  }
 ],
 "metadata": {
  "kernelspec": {
   "display_name": "Python 3 (ipykernel)",
   "language": "python",
   "name": "python3"
  },
  "language_info": {
   "codemirror_mode": {
    "name": "ipython",
    "version": 3
   },
   "file_extension": ".py",
   "mimetype": "text/x-python",
   "name": "python",
   "nbconvert_exporter": "python",
   "pygments_lexer": "ipython3",
   "version": "3.9.13"
  }
 },
 "nbformat": 4,
 "nbformat_minor": 5
}
